{
  "nbformat": 4,
  "nbformat_minor": 0,
  "metadata": {
    "colab": {
      "provenance": [],
      "authorship_tag": "ABX9TyMIrp4l0Nv4MZYm4zl6P88H"
    },
    "kernelspec": {
      "name": "python3",
      "display_name": "Python 3"
    },
    "language_info": {
      "name": "python"
    }
  },
  "cells": [
    {
      "cell_type": "markdown",
      "source": [
        "# Collatz Conjecture \n",
        "\n",
        "* is a conjecture which is not yet proven false that if you apply 3n + 1 to any odd number and divide any even number by two there will be 16, 8, 4, 2, 1 ending"
      ],
      "metadata": {
        "id": "6Rd2LgBIwFUF"
      }
    },
    {
      "cell_type": "code",
      "execution_count": 20,
      "metadata": {
        "colab": {
          "base_uri": "https://localhost:8080/"
        },
        "id": "teqjK52_ryVI",
        "outputId": "d36326dc-d684-4a47-90a6-a45fdb8b859b"
      },
      "outputs": [
        {
          "output_type": "stream",
          "name": "stdout",
          "text": [
            "6\n",
            "7\n",
            "8\n",
            "9\n",
            "10\n",
            "11\n",
            "12\n",
            "13\n",
            "14\n",
            "15\n",
            "16\n",
            "17\n",
            "18\n",
            "19\n",
            "20\n"
          ]
        },
        {
          "output_type": "execute_result",
          "data": {
            "text/plain": [
              "[3.0,\n",
              " 10.0,\n",
              " 5.0,\n",
              " 16.0,\n",
              " 8.0,\n",
              " 4.0,\n",
              " 2.0,\n",
              " 1.0,\n",
              " 22,\n",
              " 11.0,\n",
              " 34.0,\n",
              " 17.0,\n",
              " 52.0,\n",
              " 26.0,\n",
              " 13.0,\n",
              " 40.0,\n",
              " 20.0,\n",
              " 10.0,\n",
              " 5.0,\n",
              " 16.0,\n",
              " 8.0,\n",
              " 4.0,\n",
              " 2.0,\n",
              " 1.0,\n",
              " 4.0,\n",
              " 2.0,\n",
              " 1.0,\n",
              " 28,\n",
              " 14.0,\n",
              " 7.0,\n",
              " 22.0,\n",
              " 11.0,\n",
              " 34.0,\n",
              " 17.0,\n",
              " 52.0,\n",
              " 26.0,\n",
              " 13.0,\n",
              " 40.0,\n",
              " 20.0,\n",
              " 10.0,\n",
              " 5.0,\n",
              " 16.0,\n",
              " 8.0,\n",
              " 4.0,\n",
              " 2.0,\n",
              " 1.0,\n",
              " 5.0,\n",
              " 16.0,\n",
              " 8.0,\n",
              " 4.0,\n",
              " 2.0,\n",
              " 1.0,\n",
              " 34,\n",
              " 17.0,\n",
              " 52.0,\n",
              " 26.0,\n",
              " 13.0,\n",
              " 40.0,\n",
              " 20.0,\n",
              " 10.0,\n",
              " 5.0,\n",
              " 16.0,\n",
              " 8.0,\n",
              " 4.0,\n",
              " 2.0,\n",
              " 1.0,\n",
              " 6.0,\n",
              " 3.0,\n",
              " 10.0,\n",
              " 5.0,\n",
              " 16.0,\n",
              " 8.0,\n",
              " 4.0,\n",
              " 2.0,\n",
              " 1.0,\n",
              " 40,\n",
              " 20.0,\n",
              " 10.0,\n",
              " 5.0,\n",
              " 16.0,\n",
              " 8.0,\n",
              " 4.0,\n",
              " 2.0,\n",
              " 1.0,\n",
              " 7.0,\n",
              " 22.0,\n",
              " 11.0,\n",
              " 34.0,\n",
              " 17.0,\n",
              " 52.0,\n",
              " 26.0,\n",
              " 13.0,\n",
              " 40.0,\n",
              " 20.0,\n",
              " 10.0,\n",
              " 5.0,\n",
              " 16.0,\n",
              " 8.0,\n",
              " 4.0,\n",
              " 2.0,\n",
              " 1.0,\n",
              " 46,\n",
              " 23.0,\n",
              " 70.0,\n",
              " 35.0,\n",
              " 106.0,\n",
              " 53.0,\n",
              " 160.0,\n",
              " 80.0,\n",
              " 40.0,\n",
              " 20.0,\n",
              " 10.0,\n",
              " 5.0,\n",
              " 16.0,\n",
              " 8.0,\n",
              " 4.0,\n",
              " 2.0,\n",
              " 1.0,\n",
              " 8.0,\n",
              " 4.0,\n",
              " 2.0,\n",
              " 1.0,\n",
              " 52,\n",
              " 26.0,\n",
              " 13.0,\n",
              " 40.0,\n",
              " 20.0,\n",
              " 10.0,\n",
              " 5.0,\n",
              " 16.0,\n",
              " 8.0,\n",
              " 4.0,\n",
              " 2.0,\n",
              " 1.0,\n",
              " 9.0,\n",
              " 28.0,\n",
              " 14.0,\n",
              " 7.0,\n",
              " 22.0,\n",
              " 11.0,\n",
              " 34.0,\n",
              " 17.0,\n",
              " 52.0,\n",
              " 26.0,\n",
              " 13.0,\n",
              " 40.0,\n",
              " 20.0,\n",
              " 10.0,\n",
              " 5.0,\n",
              " 16.0,\n",
              " 8.0,\n",
              " 4.0,\n",
              " 2.0,\n",
              " 1.0,\n",
              " 58,\n",
              " 29.0,\n",
              " 88.0,\n",
              " 44.0,\n",
              " 22.0,\n",
              " 11.0,\n",
              " 34.0,\n",
              " 17.0,\n",
              " 52.0,\n",
              " 26.0,\n",
              " 13.0,\n",
              " 40.0,\n",
              " 20.0,\n",
              " 10.0,\n",
              " 5.0,\n",
              " 16.0,\n",
              " 8.0,\n",
              " 4.0,\n",
              " 2.0,\n",
              " 1.0,\n",
              " 10.0,\n",
              " 5.0,\n",
              " 16.0,\n",
              " 8.0,\n",
              " 4.0,\n",
              " 2.0,\n",
              " 1.0]"
            ]
          },
          "metadata": {},
          "execution_count": 20
        }
      ],
      "source": [
        "import matplotlib.pyplot as plt\n",
        "\n",
        "a = 6\n",
        "j = 6\n",
        "arr = []\n",
        "def conjecture(a, j):\n",
        "  while a > 0:\n",
        "      if (a > 20):\n",
        "        return(arr)\n",
        "      if (j == 1):\n",
        "        print(a)\n",
        "        a = a +1\n",
        "        j = a\n",
        "      else:\n",
        "        if j % 2 == 0:\n",
        "          j = j / 2\n",
        "          arr.append(j)\n",
        "        else:\n",
        "          j = j * 3 + 1\n",
        "          arr.append(j)\n",
        "conjecture(a, j)"
      ]
    },
    {
      "cell_type": "code",
      "source": [
        "plt.plot(arr)"
      ],
      "metadata": {
        "colab": {
          "base_uri": "https://localhost:8080/",
          "height": 283
        },
        "id": "nqPbyOoBsI7p",
        "outputId": "5ef646a5-c8d8-4bf3-b874-def4ab97a901"
      },
      "execution_count": 21,
      "outputs": [
        {
          "output_type": "execute_result",
          "data": {
            "text/plain": [
              "[<matplotlib.lines.Line2D at 0x7f6200109710>]"
            ]
          },
          "metadata": {},
          "execution_count": 21
        },
        {
          "output_type": "display_data",
          "data": {
            "text/plain": [
              "<Figure size 432x288 with 1 Axes>"
            ],
            "image/png": "[encoded data removed]"
          },
          "metadata": {
            "needs_background": "light"
          }
        }
      ]
    },
    {
      "cell_type": "code",
      "source": [],
      "metadata": {
        "id": "LcQmO4NWvg98"
      },
      "execution_count": null,
      "outputs": []
    }
  ]
}